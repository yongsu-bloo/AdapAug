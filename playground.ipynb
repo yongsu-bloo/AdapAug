{
 "cells": [
  {
   "cell_type": "code",
   "execution_count": 10,
   "metadata": {},
   "outputs": [],
   "source": [
    "import matplotlib.pyplot as plt\n",
    "%matplotlib inline    \n",
    "import torch\n",
    "import torch.nn as nn\n",
    "import torch.nn.functional as F\n",
    "from torchvision import transforms\n",
    "import numpy as np\n",
    "import sys, copy\n",
    "from pathlib import Path\n",
    "lib_dir = (Path(\"__file__\").parent).resolve()\n",
    "if str(lib_dir) not in sys.path: sys.path.insert(0, str(lib_dir))\n",
    "from AdapAug.data import get_dataloaders\n",
    "from theconf import Config as C, ConfigArgumentParser\n",
    "from PIL import Image\n",
    "from sklearn.manifold import TSNE\n",
    "from matplotlib.pyplot import cm\n",
    "import numpy as np\n",
    "from collections import Counter\n",
    "import pandas as pd\n",
    "from AdapAug.controller import Controller\n",
    "from AdapAug.networks.wideresnet import WideResNet"
   ]
  },
  {
   "cell_type": "code",
   "execution_count": 2,
   "metadata": {},
   "outputs": [],
   "source": [
    "plt.rcParams['figure.figsize'] = [12, 8]\n",
    "plt.rcParams['figure.dpi'] = 100"
   ]
  },
  {
   "cell_type": "code",
   "execution_count": 3,
   "metadata": {},
   "outputs": [],
   "source": [
    "C.get()[\"aug\"] = \"default\"\n",
    "C.get()[\"cutout\"] = 16\n",
    "C.get()[\"cv_num\"] = 5"
   ]
  },
  {
   "cell_type": "code",
   "execution_count": 18,
   "metadata": {},
   "outputs": [
    {
     "data": {
      "text/plain": [
       "<All keys matched successfully>"
      ]
     },
     "execution_count": 18,
     "metadata": {},
     "output_type": "execute_result"
    }
   ],
   "source": [
    "controller = Controller(n_subpolicy=2, lstm_size=100, emb_size=32,\n",
    "                            operation_prob=0).cuda()\n",
    "model = WideResNet(28, 10, dropout_rate=0.0, num_classes=100).cuda()\n",
    "ckpt = torch.load(\"/home/server36/yongsu/adapaug/AdapAug/models/cifar100_v3_ppo_np2_aw9.900e-01_rt3_lr0.0888_0/target_network.pt\")\n",
    "# ckpt = torch.load(\"/home/server36/yongsu/adapaug/AdapAug/models/cifar100_v3_ppo_np2_aw1.000e-01_rt3_lr0.0128_0/target_network.pt\")\n",
    "model.load_state_dict(ckpt[\"model\"])"
   ]
  },
  {
   "cell_type": "code",
   "execution_count": 4,
   "metadata": {},
   "outputs": [],
   "source": [
    "_, total_loader, valid_loader, test_loader = get_dataloaders(\"cifar100\", 128, \"/home/server36/data\", 0.4, split_idx=0,\n",
    "                                                             controller=None,\n",
    "                                                             rand_val=True, _transform=\"default\", validation=True)"
   ]
  },
  {
   "cell_type": "code",
   "execution_count": 20,
   "metadata": {},
   "outputs": [
    {
     "name": "stdout",
     "output_type": "stream",
     "text": [
      "[RandomCrop(size=(32, 32), padding=4), RandomHorizontalFlip(p=0.5), ToTensor(), Normalize(mean=(0.4914, 0.4822, 0.4465), std=(0.2023, 0.1994, 0.201)), <AdapAug.data.CutoutDefault object at 0x7f43eb712eb8>]\n",
      "nothing\n"
     ]
    }
   ],
   "source": [
    "print(total_loader.dataset.transform.transforms)\n",
    "# total_loader.dataset.transform.transforms.index(transforms.ToTensor)\n",
    "for i,x in enumerate(total_loader.dataset.transform.transforms):\n",
    "    if x == transforms.ToTensor:\n",
    "        print(i)\n",
    "        break\n",
    "else:\n",
    "    print(\"nothing\")"
   ]
  },
  {
   "cell_type": "code",
   "execution_count": 19,
   "metadata": {},
   "outputs": [
    {
     "name": "stdout",
     "output_type": "stream",
     "text": [
      "tensor([[[True, True, True,  ..., True, True, True],\n",
      "         [True, True, True,  ..., True, True, True],\n",
      "         [True, True, True,  ..., True, True, True],\n",
      "         ...,\n",
      "         [True, True, True,  ..., True, True, True],\n",
      "         [True, True, True,  ..., True, True, True],\n",
      "         [True, True, True,  ..., True, True, True]],\n",
      "\n",
      "        [[True, True, True,  ..., True, True, True],\n",
      "         [True, True, True,  ..., True, True, True],\n",
      "         [True, True, True,  ..., True, True, True],\n",
      "         ...,\n",
      "         [True, True, True,  ..., True, True, True],\n",
      "         [True, True, True,  ..., True, True, True],\n",
      "         [True, True, True,  ..., True, True, True]],\n",
      "\n",
      "        [[True, True, True,  ..., True, True, True],\n",
      "         [True, True, True,  ..., True, True, True],\n",
      "         [True, True, True,  ..., True, True, True],\n",
      "         ...,\n",
      "         [True, True, True,  ..., True, True, True],\n",
      "         [True, True, True,  ..., True, True, True],\n",
      "         [True, True, True,  ..., True, True, True]]])\n"
     ]
    }
   ],
   "source": [
    "ts = transforms.Compose([])\n",
    "x = torch.rand(3,32,32)\n",
    "print(ts(x)==x)"
   ]
  },
  {
   "cell_type": "code",
   "execution_count": 16,
   "metadata": {},
   "outputs": [],
   "source": [
    "_, _, _, _test_loader = get_dataloaders(\"cifar100\", 128, \"/home/server36/data\", 0.4, split_idx=0,\n",
    "                                                             rand_val=False, _transform=\"default\", validation=False)"
   ]
  },
  {
   "cell_type": "code",
   "execution_count": 7,
   "metadata": {},
   "outputs": [
    {
     "name": "stdout",
     "output_type": "stream",
     "text": [
      "Compose(\n",
      "    ToTensor()\n",
      "    Normalize(mean=(0.4914, 0.4822, 0.4465), std=(0.2023, 0.1994, 0.201))\n",
      ")\n",
      "None\n"
     ]
    }
   ],
   "source": [
    "print(test_loader.dataset.dataset.transform)\n",
    "print(test_loader.dataset.dataset.policies)"
   ]
  },
  {
   "cell_type": "code",
   "execution_count": 19,
   "metadata": {},
   "outputs": [
    {
     "name": "stdout",
     "output_type": "stream",
     "text": [
      "tensor(0.7922, device='cuda:0')\n"
     ]
    }
   ],
   "source": [
    "from AdapAug.metrics import accuracy\n",
    "accs = 0.\n",
    "cnt = 0\n",
    "for data, label in _test_loader:\n",
    "    data, label = data.cuda(), label.cuda()\n",
    "    accs += accuracy(model(data), label)[0] * len(data)\n",
    "    cnt += len(data)\n",
    "print(accs/cnt)"
   ]
  },
  {
   "cell_type": "code",
   "execution_count": null,
   "metadata": {},
   "outputs": [],
   "source": [
    "isinstance(label, list)"
   ]
  },
  {
   "cell_type": "code",
   "execution_count": null,
   "metadata": {},
   "outputs": [],
   "source": [
    "cmap = cm.get_cmap('jet', num_classes)\n",
    "plt.scatter(xs,ys,s=1.,alpha=0.2,c=total_trainset.targets, cmap=cmap)\n",
    "plt.colorbar()\n",
    "plt.show()"
   ]
  },
  {
   "cell_type": "code",
   "execution_count": null,
   "metadata": {
    "scrolled": false
   },
   "outputs": [],
   "source": [
    "fig, axes = plt.subplots(cv_num, repeat, figsize=(4*repeat,4*cv_num))\n",
    "for cv_id in range(cv_num):\n",
    "    for r, id_dist in enumerate(gr_dist_move[cv_id]):\n",
    "        id_dist = torch.max(id_dist,-1)[1].numpy()\n",
    "#         print(id_dist)\n",
    "        ax = axes[cv_id][r]\n",
    "        ax.scatter(xs, ys, c=id_dist, s=0.2, alpha=0.5, label=Counter(id_dist), cmap=cmap)\n",
    "        print(Counter(id_dist))\n",
    "        if r == 0:\n",
    "            ax.set_ylabel(f\"cv {cv_id}\")\n",
    "        if cv_id == 0:\n",
    "            ax.set_title(f\"repeat {r}\")\n",
    "#         ax.legend()\n",
    "plt.show()"
   ]
  },
  {
   "cell_type": "code",
   "execution_count": null,
   "metadata": {},
   "outputs": [],
   "source": [
    "gr_ids = gr_dist_move[\"last\"].max(-1)[1].numpy()\n",
    "print(Counter(gr_ids))\n",
    "print(gr_dist_move[\"last\"])\n",
    "plt.scatter(xs, ys, s=2., alpha=0.4, c=gr_ids, cmap=cmap)"
   ]
  },
  {
   "cell_type": "code",
   "execution_count": null,
   "metadata": {
    "scrolled": true
   },
   "outputs": [],
   "source": [
    "cmap = cm.get_cmap('jet', 2)\n",
    "plt.scatter(xs,ys,s=1.,alpha=0.2,c=[1 if x<10 else 2 for x in total_trainset.targets], cmap=cmap)\n",
    "plt.show()"
   ]
  },
  {
   "cell_type": "code",
   "execution_count": null,
   "metadata": {},
   "outputs": [],
   "source": [
    "# gr_ids\n",
    "_, trainloader, validloader, testloader = get_dataloaders(\"cifar10_svhn\", 128, \"/home/server32/data/\", 0.0, gr_id=0, gr_ids=gr_ids)"
   ]
  },
  {
   "cell_type": "code",
   "execution_count": null,
   "metadata": {},
   "outputs": [],
   "source": [
    "print(len(testloader.dataset))"
   ]
  },
  {
   "cell_type": "code",
   "execution_count": null,
   "metadata": {},
   "outputs": [],
   "source": [
    "load_path = \"/home/server32/yongsu/fast-autoaugment/FastAutoAugment/models/logging_b1000/search_cifar10_svhn_wresnet40_2_group2_4_cv0_ratio0.4_bo_result.csv\"\n",
    "result_csv = pd.read_csv(load_path)\n",
    "minus_loss = result_csv['minus_loss']\n",
    "acc = result_csv[\"top1_valid\"]"
   ]
  },
  {
   "cell_type": "code",
   "execution_count": null,
   "metadata": {},
   "outputs": [],
   "source": [
    "maxline = [max(acc[:x]) for x in range(1,len(acc))]\n",
    "plt.plot(acc, label=\"Acc\")\n",
    "plt.plot(maxline, label=\"Max\")\n",
    "plt.axvline(x=199,c='red')\n",
    "plt.text(200, acc[199], \"{:.4f}\".format(acc[199]))\n",
    "plt.text(200, maxline[198], \"{:.4f}\".format(maxline[198]))\n",
    "plt.axvline(x=24,c='blue')\n",
    "plt.text(25, acc[24], \"{:.4f}\".format(acc[24]))\n",
    "plt.text(25, maxline[23], \"{:.4f}\".format(maxline[23]))\n",
    "plt.text(len(acc), maxline[-1], \"{:.4f}\".format(maxline[-1]))\n",
    "plt.legend()\n",
    "plt.show()"
   ]
  },
  {
   "cell_type": "code",
   "execution_count": null,
   "metadata": {},
   "outputs": [],
   "source": []
  }
 ],
 "metadata": {
  "kernelspec": {
   "display_name": "Python 3",
   "language": "python",
   "name": "python3"
  },
  "language_info": {
   "codemirror_mode": {
    "name": "ipython",
    "version": 3
   },
   "file_extension": ".py",
   "mimetype": "text/x-python",
   "name": "python",
   "nbconvert_exporter": "python",
   "pygments_lexer": "ipython3",
   "version": "3.6.9"
  }
 },
 "nbformat": 4,
 "nbformat_minor": 4
}
